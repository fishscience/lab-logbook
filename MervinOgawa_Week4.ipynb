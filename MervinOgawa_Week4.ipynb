{
  "nbformat": 4,
  "nbformat_minor": 0,
  "metadata": {
    "colab": {
      "name": "Copy of AppliedDataAnalysisWeek4.ipynb",
      "provenance": []
    },
    "kernelspec": {
      "name": "python3",
      "display_name": "Python 3"
    },
    "language_info": {
      "name": "python"
    }
  },
  "cells": [
    {
      "cell_type": "code",
      "execution_count": null,
      "metadata": {
        "id": "CaCTdFSEOEiz"
      },
      "outputs": [],
      "source": [
        "import pandas as pd\n",
        "import numpy as np\n",
        "import matplotlib.pyplot as plt\n",
        "import seaborn as sns"
      ]
    },
    {
      "cell_type": "code",
      "source": [
        "df = pd.read_csv('diabetes.csv')\n",
        "print(df)"
      ],
      "metadata": {
        "colab": {
          "base_uri": "https://localhost:8080/"
        },
        "id": "YU7PAs2iOyja",
        "outputId": "b06e5ec6-0bc5-4b33-ebd3-deac4ca607bd"
      },
      "execution_count": null,
      "outputs": [
        {
          "output_type": "stream",
          "name": "stdout",
          "text": [
            "     Pregnancies  Glucose  ...  Age  Outcome\n",
            "0              6      148  ...   50        1\n",
            "1              1       85  ...   31        0\n",
            "2              8      183  ...   32        1\n",
            "3              1       89  ...   21        0\n",
            "4              0      137  ...   33        1\n",
            "..           ...      ...  ...  ...      ...\n",
            "763           10      101  ...   63        0\n",
            "764            2      122  ...   27        0\n",
            "765            5      121  ...   30        0\n",
            "766            1      126  ...   47        1\n",
            "767            1       93  ...   23        0\n",
            "\n",
            "[768 rows x 9 columns]\n"
          ]
        }
      ]
    },
    {
      "cell_type": "code",
      "source": [
        "correlation = df['Glucose'].corr(df['BloodPressure'])\n",
        "\n",
        "print(\"The corellation between glucose and blood pressure is :\", correlation)"
      ],
      "metadata": {
        "colab": {
          "base_uri": "https://localhost:8080/"
        },
        "id": "4VbZuG1jS7hn",
        "outputId": "d5a043ed-e682-4beb-e6fd-f94d25b1f751"
      },
      "execution_count": null,
      "outputs": [
        {
          "output_type": "stream",
          "name": "stdout",
          "text": [
            "The corellation between glucose and blood pressure is : 0.15258958656866448\n"
          ]
        }
      ]
    },
    {
      "cell_type": "code",
      "source": [
        "df_o = pd.read_csv('olympics.csv')\n",
        "print(df_o)\n"
      ],
      "metadata": {
        "colab": {
          "base_uri": "https://localhost:8080/"
        },
        "id": "U2W6rzmDUMbr",
        "outputId": "ae130903-a9ce-4f55-b256-1b0560f378a6"
      },
      "execution_count": null,
      "outputs": [
        {
          "output_type": "stream",
          "name": "stdout",
          "text": [
            "          City  Edition  ... Event_gender   Medal\n",
            "0       Athens     1896  ...            M    Gold\n",
            "1       Athens     1896  ...            M  Silver\n",
            "2       Athens     1896  ...            M  Bronze\n",
            "3       Athens     1896  ...            M    Gold\n",
            "4       Athens     1896  ...            M  Silver\n",
            "...        ...      ...  ...          ...     ...\n",
            "29211  Beijing     2008  ...            M  Silver\n",
            "29212  Beijing     2008  ...            M  Bronze\n",
            "29213  Beijing     2008  ...            M  Bronze\n",
            "29214  Beijing     2008  ...            M    Gold\n",
            "29215  Beijing     2008  ...            M  Silver\n",
            "\n",
            "[29216 rows x 10 columns]\n"
          ]
        }
      ]
    },
    {
      "cell_type": "markdown",
      "source": [
        "Bar plot of medals / year"
      ],
      "metadata": {
        "id": "N9NtA0PhULCl"
      }
    },
    {
      "cell_type": "code",
      "source": [
        "series_medals = df_o['Edition'].value_counts()\n",
        "series_medals.plot.bar(x='Year', y='Medal Count')\n"
      ],
      "metadata": {
        "colab": {
          "base_uri": "https://localhost:8080/",
          "height": 298
        },
        "id": "ZS_oGjvoVZaZ",
        "outputId": "622ea2f0-d1af-4158-f970-8fb5db2dbb69"
      },
      "execution_count": null,
      "outputs": [
        {
          "output_type": "execute_result",
          "data": {
            "text/plain": [
              "<matplotlib.axes._subplots.AxesSubplot at 0x7f055f0e1710>"
            ]
          },
          "metadata": {},
          "execution_count": 33
        },
        {
          "output_type": "display_data",
          "data": {
            "image/png": "[encoded data removed]",
            "text/plain": [
              "<Figure size 432x288 with 1 Axes>"
            ]
          },
          "metadata": {
            "needs_background": "light"
          }
        }
      ]
    },
    {
      "cell_type": "code",
      "source": [
        "print(\"The year with the highest medal is 2008\")"
      ],
      "metadata": {
        "colab": {
          "base_uri": "https://localhost:8080/"
        },
        "id": "ZhQlhNdvZdhL",
        "outputId": "221d4edf-dbde-4b9e-af00-bb9120bdfd15"
      },
      "execution_count": null,
      "outputs": [
        {
          "output_type": "stream",
          "name": "stdout",
          "text": [
            "The year with the highest medal is 2008\n"
          ]
        }
      ]
    }
  ]
}